{
 "cells": [
  {
   "cell_type": "code",
   "execution_count": 1,
   "metadata": {},
   "outputs": [],
   "source": [
    "import math as mt\n",
    "import numpy as np\n",
    "import matplotlib.pyplot as plt\n",
    "import time"
   ]
  },
  {
   "cell_type": "code",
   "execution_count": 2,
   "metadata": {},
   "outputs": [],
   "source": [
    "k = 8.61e-5\n",
    "q = 1.6e-19\n",
    "bottom_concentration = 1e16 # Концентрация в Si\n",
    "E = 180000  # Заданная величина поля\n",
    "Q = 5e14 # Доза имплантации\n",
    "T = 1273 # Температура отжига, К\n",
    "n = 1000 # Кол-во точек построения\n",
    "Xmax = 1 # Глубина, до которой идет расчет значений, мкм\n",
    "dx = Xmax / n # Шаг по х\n",
    "dt = 1\n",
    "tt = 900 # Время отжига, с\n",
    "\n",
    "# Коэффициенты а для расчета Rp и deltaRp\n",
    "a1 = 0.000668\n",
    "a2 = 0.921\n",
    "a3 = 0.005072\n",
    "a4 = 0.000241\n",
    "a5 = 0.884\n",
    "a6 = 0.000923"
   ]
  },
  {
   "cell_type": "code",
   "execution_count": 3,
   "metadata": {},
   "outputs": [],
   "source": [
    "# Расчет Rp и deltaRp, перевод в см\n",
    "Rp = (a1 * (E ** a2) + a3) / 10000000\n",
    "delRp = (a4 * (E ** a5) + a6) / 10000000"
   ]
  },
  {
   "cell_type": "code",
   "execution_count": 10,
   "metadata": {},
   "outputs": [],
   "source": [
    "# Функция расчета концентрации при распределении Гаусса\n",
    "def implantation(x):\n",
    "    f = Q / (2.5 * delRp) * mt.exp(- ((x / 10000 - Rp) ** 2) / (2 * delRp ** 2))\n",
    "    return f\n",
    "\n",
    "Nc = 6.2e15 * T ** 1.5\n",
    "Nv = 3.5e15 * T ** 1.5\n",
    "Eg = 1.17 - 4.73e-4 * (T ** 2) / ( T + 636 )\n",
    "ni = ((Nc * Nv / 2) ** 0.5) * mt.exp(-Eg / (2 * k * T))\n",
    "\n",
    "# Функиция расчета коэффициента диффузии\n",
    "def diffusion_coeff(C, temperature, ni):\n",
    "    # return 1e-12\n",
    "    Nc = 6.2e15 * T ** 1.5\n",
    "    Nv = 3.5e15 * T ** 1.5\n",
    "    Eg = 1.17 - 4.73e-4 * (T ** 2) / ( T + 636 )\n",
    "    ni = ((Nc * Nv / 2) ** 0.5) * mt.exp(-Eg / (2 * k * T))\n",
    "    coef = 0.214 * mt.exp(-3.65/(k*temperature)) + 15 * C / ni * mt.exp(-4.08/(k*temperature))\n",
    "    return coef"
   ]
  },
  {
   "cell_type": "code",
   "execution_count": 11,
   "metadata": {},
   "outputs": [],
   "source": [
    "# Функция расчета глубины залегания p-n перехода\n",
    "def pn_junction(x, concentration, baseImpurity = bottom_concentration):\n",
    "    for i in range(1, len(concentration)):\n",
    "        if (concentration[i] > baseImpurity) and (concentration[i + 1] < baseImpurity):\n",
    "            # print('p-n переход находится на глубине в {:.3f} мкм'.format(x[i]))\n",
    "            return 'p-n переход находится на глубине в {:.3f} мкм'.format(x[i])\n",
    "        else:\n",
    "            pass"
   ]
  },
  {
   "cell_type": "code",
   "execution_count": 12,
   "metadata": {},
   "outputs": [],
   "source": [
    "# Создание массивов нулевых значений\n",
    "C = np.empty(n + 1)\n",
    "C1 = np.zeros(n + 1)\n",
    "X = np.zeros(n + 1)\n",
    "a = np.zeros(n + 1)\n",
    "b = np.zeros(n + 1)\n",
    "d = np.zeros(n + 1)\n",
    "r = np.zeros(n + 1)\n",
    "delta = np.zeros(n + 1)\n",
    "lam = np.zeros(n + 1)"
   ]
  },
  {
   "cell_type": "code",
   "execution_count": 13,
   "metadata": {},
   "outputs": [],
   "source": [
    "# Первые значения массива концентраций распределения Гаусса\n",
    "X[1] = 0\n",
    "C[1] = implantation(X[1])\n",
    "\n",
    "# Заполнение массива концентраций для распределения Гаусса\n",
    "for i in range(2, n - 1):\n",
    "    X[i] = X[i - 1] + dx\n",
    "    C[i] = implantation(X[i])\n",
    "\n",
    "for i in range(2, n-1)    \n",
    "C1[i] = C[i]"
   ]
  },
  {
   "cell_type": "code",
   "execution_count": 14,
   "metadata": {},
   "outputs": [],
   "source": [
    "# Граничные условия разгонки примеси\n",
    "a[1] = -1\n",
    "b[1] = 0\n",
    "d[1] = 1\n",
    "r[1] = 0\n",
    "\n",
    "a[n] = 1\n",
    "b[n] = 0\n",
    "d[n] = 0\n",
    "r[n] = 0\n",
    "\n",
    "# Включение интерактивного режима работы с библиотекой графического представления\n",
    "plt.ion()"
   ]
  },
  {
   "cell_type": "code",
   "execution_count": 15,
   "metadata": {},
   "outputs": [
    {
     "data": {
      "image/png": "[encoded data removed]",
      "text/plain": [
       "<Figure size 432x288 with 1 Axes>"
      ]
     },
     "metadata": {
      "needs_background": "light"
     },
     "output_type": "display_data"
    },
    {
     "data": {
      "text/plain": [
       "'p-n переход находится на глубине в 0.118 мкм'"
      ]
     },
     "execution_count": 15,
     "metadata": {},
     "output_type": "execute_result"
    },
    {
     "data": {
      "text/plain": [
       "<Figure size 432x288 with 0 Axes>"
      ]
     },
     "metadata": {},
     "output_type": "display_data"
    }
   ],
   "source": [
    "# Получение массива значений концентрации для каждого значения времени\n",
    "for g in range(1, tt, 1):\n",
    "    for i in range(2, n - 1):\n",
    "        a[i] = -(2 + ((dx ** 2) * 1e-8 / (diffusion_coeff(C[i], T, ni) * dt)))\n",
    "        b[i] = 1\n",
    "        d[i] = 1\n",
    "        r[i] = -((dx ** 2) * 1e-8 * C[i]) / (diffusion_coeff(C[i], T, ni) * dt)\n",
    "    delta[1] = -d[1] / a[1]\n",
    "    lam[1] = r[1] / a[1]\n",
    "    for i in range(2, n - 1):\n",
    "        delta[i] = - d[i] / (a[i] + b[i] * delta[i - 1])\n",
    "        lam[i] = (r[i] - b[i] * lam[i - 1]) / (a[i] + b[i] * delta[i - 1])\n",
    "    C[n] = lam[n]\n",
    "    for i in range(n - 1, 1, -1):\n",
    "        C[i] = delta[i] * C[i + 1] + abs(lam[i])\n",
    "\n",
    "# Анимированное отображение графика в цикле\n",
    "plt.clf()\n",
    "plt.plot(X, C1)\n",
    "plt.plot(X, C)\n",
    "plt.xlim(0, 0.1)\n",
    "plt.ylim(0, 3e20)\n",
    "plt.xlabel(\"Глубина, мкм\")\n",
    "plt.ylabel('Концентрация, см-3')\n",
    "plt.plot(X, C, color=\"black\", label='После разгонки')\n",
    "plt.plot(X, C1, color='red', label='Распределение Гаусса')\n",
    "plt.legend()\n",
    "plt.draw()\n",
    "plt.show()\n",
    "plt.gcf().canvas.flush_events()\n",
    "time.sleep(0.0002)\n",
    "    \n",
    "pn_junction(X,C)   "
   ]
  },
  {
   "cell_type": "code",
   "execution_count": null,
   "metadata": {},
   "outputs": [],
   "source": [
    "plt.ioff()\n",
    "plt.show()"
   ]
  },
  {
   "cell_type": "code",
   "execution_count": null,
   "metadata": {},
   "outputs": [],
   "source": []
  }
 ],
 "metadata": {
  "kernelspec": {
   "display_name": "Python 3",
   "language": "python",
   "name": "python3"
  },
  "language_info": {
   "codemirror_mode": {
    "name": "ipython",
    "version": 3
   },
   "file_extension": ".py",
   "mimetype": "text/x-python",
   "name": "python",
   "nbconvert_exporter": "python",
   "pygments_lexer": "ipython3",
   "version": "3.8.3"
  }
 },
 "nbformat": 4,
 "nbformat_minor": 4
}
