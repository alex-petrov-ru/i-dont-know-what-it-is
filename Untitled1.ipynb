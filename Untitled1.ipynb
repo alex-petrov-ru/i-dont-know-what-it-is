{
 "cells": [
  {
   "cell_type": "code",
   "execution_count": 69,
   "metadata": {},
   "outputs": [],
   "source": [
    "import numpy as np\n",
    "import math as mt\n",
    "import matplotlib.pyplot as plt"
   ]
  },
  {
   "cell_type": "code",
   "execution_count": 70,
   "metadata": {},
   "outputs": [],
   "source": [
    "N = 1000\n",
    "aem = 1.67e-27\n",
    "q = 1.6e-19\n",
    "epsilon_0 = 8.85e-14\n",
    "p = 1e-4\n",
    "\n",
    "el = 1.6e-19\n",
    "\n",
    "Ge_m = 72.59\n",
    "Ge_z = 32\n",
    "m2 = 72.59 * aem\n",
    "z2 = Ge_z\n",
    "\n",
    "As_m = 74.92\n",
    "As_z = 33\n",
    "m1 = As_m * aem\n",
    "z1 = As_z\n",
    "E = 120000\n",
    "Q = 1e15\n",
    "\n",
    "\n",
    "a0 = 0.00000000529\n",
    "a1 = 1.1383\n",
    "b1 = 0.01321\n",
    "c1 = 0.21226\n",
    "d1 = 0.19593"
   ]
  },
  {
   "cell_type": "code",
   "execution_count": 71,
   "metadata": {},
   "outputs": [],
   "source": [
    "# Thomas-Fermi model\n",
    "a = 0.8854 * a0 / (z1 ** 0.66 + z2 ** 0.66) ** 0.55\n",
    "eps = (a * m2 * E) / (z1 * z2 * 1.44e-7 * (m1 + m2))\n",
    "\n",
    "if eps < 10:\n",
    "    sn_0 = mt.log(1 + a1 * eps) / \\\n",
    "        (2 * (eps + b1 * eps ** c1 + d1 * eps ** 0.5))\n",
    "else:\n",
    "    sn_0 = mt.log(eps) / (2 * eps)\n",
    "\n",
    "Sn = (8.462E-15 * z1 * z2 * m1 * sn_0) / ((m1 + m2) *\n",
    "                                          (z1 ** 0.23 + z2 ** 0.23)) * (8 / (0.000000056533) ** 3)\n",
    "k1 = z1 ** (1 / 6) * 0.000000793 * z1 ** (1 / 2) * (m1 + m2) ** (3 / 2) \\\n",
    "    / ((z1 ** (2 / 3) + z2 ** (2 / 3)) ** (3 / 4) * m1 ** (3 / 2) * m2 ** (3 / 2))\n",
    "Cr = (4 * 3.14 * a ** 2 * m1 * m2) / (m1 + m2) ** 2\n",
    "Ce = (4 * 3.14 * epsilon_0 * a * m2) / (z2 * z1 * q ** 2 * (m2 + m1))\n",
    "\n",
    "k = k1 * Cr / Ce ** 0.5\n",
    "Se = k * E ** 0.5"
   ]
  },
  {
   "cell_type": "code",
   "execution_count": 72,
   "metadata": {},
   "outputs": [],
   "source": [
    "dE = E / N\n",
    "\n",
    "Rp = np.zeros(N + 1)\n",
    "Csi = np.zeros(N + 1)\n",
    "dRpl = np.zeros(N + 1)\n",
    "\n",
    "for i in range(1, N + 1):\n",
    "    Rp[i] = Rp[i - 1] + (1 - (m2 / m1) * (Sn / (Sn + Se))\n",
    "                         * (dE / E)) * (dE / (Sn + Se))\n",
    "for i in range(1, N + 1):\n",
    "    Csi[i] = Csi[i - 1] + (2 * Rp[N] / (Se + Sn)) * dE\n",
    "for i in range(1, N + 1):\n",
    "    dRpl[i] = (dRpl[i - 1] ** 2 + (Csi[N] - 2 * dRpl[i - 1] ** 2)\n",
    "               * (m2 / m1) * (Sn / (Sn + Se)) * (dE / E)) ** 0.5"
   ]
  },
  {
   "cell_type": "code",
   "execution_count": 74,
   "metadata": {},
   "outputs": [
    {
     "name": "stdout",
     "output_type": "stream",
     "text": [
      "Sn  1587.536  эв / нм\n",
      "Se  1157.598  эв / нм\n",
      "Rp  0.044  мкм\n"
     ]
    },
    {
     "data": {
      "image/png": "[encoded data removed]",
      "text/plain": [
       "<Figure size 432x288 with 1 Axes>"
      ]
     },
     "metadata": {
      "needs_background": "light"
     },
     "output_type": "display_data"
    }
   ],
   "source": [
    "x1 = np.zeros(N + 1)\n",
    "dRp = (Csi[N] - Rp[N] ** 2 - dRpl[N] ** 2) ** 0.5\n",
    "\n",
    "x2 = np.zeros(N + 1)\n",
    "\n",
    "dx1 = p / N\n",
    "\n",
    "x1[0] = 0\n",
    "x2[0] = 0\n",
    "\n",
    "for i in range(1, N + 1):\n",
    "    x1[i] = x1[i - 1] + dx\n",
    "    x2[i] = x1[i] / 1e-4  # mkm\n",
    "\n",
    "C = np.zeros(N + 1)\n",
    "\n",
    "for i in range(0, N + 1):\n",
    "    C[i] = Q / ((2 * 3.14) ** 0.5 * dRp) * \\\n",
    "        mt.exp(-(x1[i] - Rp[N]) ** 2 / (2 * dRp ** 2))\n",
    "\n",
    "print(f\"Sn {Sn / 1e7:.3f} эв/нм или {Sn / 1e10:.3f} кэв/нм\")\n",
    "print(f\"Se {Se / 1e7:.3f} эв/нм или {Se / 1e10:.3f} кэв/нм\")\n",
    "print(f\"Rp {Rp[N] * 1e4:.3f} мкм\")\n",
    "\n",
    "\n",
    "plt.plot(x2, C)\n",
    "plt.xlabel('Глубина, мкм')\n",
    "plt.ylabel('Концентрация, см-3')\n",
    "plt.show()"
   ]
  },
  {
   "cell_type": "code",
   "execution_count": 82,
   "metadata": {},
   "outputs": [
    {
     "name": "stdout",
     "output_type": "stream",
     "text": [
      "Sn 1587.536 эв/нм или 1.588 кэв/нм\n",
      "Se 1157.598 эв/нм или 1.158 кэв/нм\n",
      "Rp 0.044 мкм\n"
     ]
    }
   ],
   "source": [
    "print(f\"Sn {Sn / 1e7:.3f} эв/нм или {Sn / 1e10:.3f} кэв/нм\")\n",
    "print(f\"Se {Se / 1e7:.3f} эв/нм или {Se / 1e10:.3f} кэв/нм\")\n",
    "print(f\"Rp {Rp[N] * 1e4:.3f} мкм\")"
   ]
  },
  {
   "cell_type": "code",
   "execution_count": null,
   "metadata": {},
   "outputs": [],
   "source": []
  }
 ],
 "metadata": {
  "kernelspec": {
   "display_name": "Python 3",
   "language": "python",
   "name": "python3"
  },
  "language_info": {
   "codemirror_mode": {
    "name": "ipython",
    "version": 3
   },
   "file_extension": ".py",
   "mimetype": "text/x-python",
   "name": "python",
   "nbconvert_exporter": "python",
   "pygments_lexer": "ipython3",
   "version": "3.8.3"
  }
 },
 "nbformat": 4,
 "nbformat_minor": 4
}
