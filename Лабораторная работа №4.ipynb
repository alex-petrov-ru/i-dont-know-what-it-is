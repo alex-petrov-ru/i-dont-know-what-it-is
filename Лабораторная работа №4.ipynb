{
 "cells": [
  {
   "cell_type": "code",
   "execution_count": 64,
   "metadata": {},
   "outputs": [],
   "source": [
    "import math as mt\n",
    "import numpy as np\n",
    "import matplotlib.pyplot as plt "
   ]
  },
  {
   "cell_type": "code",
   "execution_count": 65,
   "metadata": {},
   "outputs": [],
   "source": [
    "def Sn(E):\n",
    "# 'yadernaya tormoznaya sposobnost\n",
    "# 'eV/sm\n",
    "\n",
    "    \n",
    "    M1 = 74.92\n",
    "    Z1 = 33\n",
    "    M2 = 72.59\n",
    "    Z2 = 32\n",
    "    Nat = 4.42E+22 #'chislo atomov Ge v cm^-3\n",
    "    q2 = 14.4 #'eV*Ang\n",
    "    \n",
    "    ao = 0.528 #'Ang\n",
    "    a = 0.8854 * ao / (Z1 ** (2 / 3) + Z2 ** (2 / 3)) ** (0.5) #'Ang, postoyannaya ecranirovaniya\n",
    "    a1 = 1.383\n",
    "    b = 0.01321\n",
    "    c1 = 0.21226\n",
    "    d = 0.19593\n",
    "    \n",
    "    eps = a * M2 * E / (q2 * Z1 * Z2 * (M1 + M2))\n",
    "    \n",
    "    if eps > 10:\n",
    "        Sneps = mt.log(eps) / 2 / eps\n",
    "    else:\n",
    "        Sneps = mt.log(1 + a1 * eps) / 2 / (eps + b * eps ** c1 + d * eps ** 0.5)\n",
    "        \n",
    "    Sn = 8.462E-15 * Z2 * Z1 * M1 * Sneps * Nat / ((M1 + M2) * (Z2 ** (0.23) + Z1 ** (0.23))) # 'eV/sm\n",
    "    \n",
    "    return Sn"
   ]
  },
  {
   "cell_type": "code",
   "execution_count": 66,
   "metadata": {},
   "outputs": [],
   "source": [
    "def Se(E):\n",
    "# 'electronnaya tormoznaya sposobnost\n",
    "# 'eV/sm\n",
    "   \n",
    "    M1 = 74.92\n",
    "    Z1 = 33\n",
    "    M2 = 72.59\n",
    "    Z2 = 32\n",
    "    \n",
    "    q2 = 14.4 # 'eV*Ang\n",
    "    Nat = 4.42E+22 # 'chislo atomov Ge v cm^-3\n",
    "    \n",
    "    ao = 0.528 # 'Ang\n",
    "    a = 0.8854 * ao / (Z1 ** (2 / 3) + Z2 ** (2 / 3)) ** (0.5) # 'Ang, postoyannaya ecranirovaniya\n",
    "    \n",
    "    kk = Z1 ** (1 / 6) * 0.0793 * Z1 ** 0.5 * (M1 + M2) ** 1.5 / ((Z2 ** (2 / 3) + Z1 ** (2 / 3)) ** (3 / 4) \n",
    "                                                                  * (M1 ** 1.5 * M2 ** 0.5))\n",
    "    Cr = 4 * 3.1416 * a ** 2 * M1 * M2 / (M1 + M2) ** 2  #'Ang^2\n",
    "    Ce = 4 * 3.1416 * a * M2 / (Z1 * Z2 * q2 * (M1 + M2)) # '1/eV\n",
    "   \n",
    "    Se = kk * (Cr * 1e-16) * (E) ** 0.5 * Nat / (Ce ** 0.5) # 'eV/sm (Cr - sm^2)\n",
    "    \n",
    "    return Se"
   ]
  },
  {
   "cell_type": "code",
   "execution_count": 70,
   "metadata": {},
   "outputs": [],
   "source": [
    "QQ = 1e15 # 'sm^-2\n",
    "Em = 120000 # 'eV\n",
    "M1 = 74.92\n",
    "Z1 = 33\n",
    "M2 = 72.59\n",
    "Z2 = 32\n",
    "n = Em\n",
    "\n",
    "dE = 1\n",
    "\n",
    "Rp = np.zeros(n + 1)\n",
    "Csi = np.zeros(n + 1)\n",
    "dRp1 = np.zeros(n + 1)\n",
    "\n",
    "Rp[0] = 0\n",
    "Csi[0] = 0\n",
    "dRp1[0] = 0\n",
    "  \n",
    "for i in range(1, n):\n",
    "    Rp[i] = Rp[i - 1] * (1 - M2 * Sn(i) * dE / (2 * M1 * (Se(i) + Sn(i)) * i)) + dE / (Se(i) + Sn(i))\n",
    "    \n",
    "    \n",
    "for i in range(1, n):    \n",
    "    Csi[i] = Csi[i - 1] + 2 * Rp[i] * dE / (Se(i) + Sn(i))\n",
    "    \n",
    "for i in range(1, n):    \n",
    "    dRp1[i] = dRp1[i - 1] ** 2 + (Csi[i] - 2 * dRp1[i - 1] ** 2) * M2 * Sn(i) * dE / (M1 * (Sn(i) + Se(i)) * i)\n",
    "    \n",
    "\n",
    "dRp = ((Csi[n-1] - Rp[n-1] ** 2 - dRp1[n-1] ** 2) ** 0.5)\n",
    "\n",
    "x = np.zeros(n+1)\n",
    "C = np.zeros(n+1)                                                                                      \n",
    "                                                                                      \n",
    "p = 0.005\n",
    "dx = p / n\n",
    "x[0] = 0\n",
    "\n",
    "for i in range(1,n):\n",
    "    x[i] = x[i - 1] + dx\n",
    "\n",
    "\n",
    "for i in range(1,n):   \n",
    "    C[i] = (QQ / (2.5 * dRp)) * mt.exp(-(x[i] - Rp[n-1]) ** 2 / (2 * dRp ** 2))         "
   ]
  },
  {
   "cell_type": "code",
   "execution_count": 72,
   "metadata": {},
   "outputs": [
    {
     "name": "stdout",
     "output_type": "stream",
     "text": [
      "Rp 4.511295281076727e-06 см\n",
      "dRp 3.394432569135648e-06 см\n"
     ]
    },
    {
     "data": {
      "image/png": "[encoded data removed]",
      "text/plain": [
       "<Figure size 432x288 with 1 Axes>"
      ]
     },
     "metadata": {
      "needs_background": "light"
     },
     "output_type": "display_data"
    }
   ],
   "source": [
    "print(f\"Rp {Rp[n-1]} см\")\n",
    "print(f\"dRp {dRp} см\")   \n",
    "\n",
    "plt.plot(x, C)\n",
    "plt.xlabel('Глубина, см')\n",
    "plt.ylabel('Концентрация, см-3')\n",
    "plt.xlim(0, 0.0001)\n",
    "plt.show()"
   ]
  },
  {
   "cell_type": "code",
   "execution_count": null,
   "metadata": {},
   "outputs": [],
   "source": []
  }
 ],
 "metadata": {
  "kernelspec": {
   "display_name": "Python 3",
   "language": "python",
   "name": "python3"
  },
  "language_info": {
   "codemirror_mode": {
    "name": "ipython",
    "version": 3
   },
   "file_extension": ".py",
   "mimetype": "text/x-python",
   "name": "python",
   "nbconvert_exporter": "python",
   "pygments_lexer": "ipython3",
   "version": "3.8.3"
  }
 },
 "nbformat": 4,
 "nbformat_minor": 4
}
