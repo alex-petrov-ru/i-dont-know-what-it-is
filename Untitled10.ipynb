{
 "cells": [
  {
   "cell_type": "code",
   "execution_count": 2,
   "metadata": {},
   "outputs": [],
   "source": [
    "import math as mt\n",
    "import numpy as np\n",
    "import matplotlib.pyplot as plt"
   ]
  },
  {
   "cell_type": "code",
   "execution_count": 3,
   "metadata": {},
   "outputs": [],
   "source": [
    "def Diff(C, dd): # Коэффициент диффузии\n",
    "    k = 0.0000861\n",
    "    Nc = 4.831e15 * ((1.08 * T) ** 1.5)\n",
    "    Nv = 4.831e15 * ((0.59 * T) ** 1.5)\n",
    "    Eg = 1.21 - (0.00028) * T\n",
    "    ni = ((Nc * Nv / 2) ** 0.5) * Exp(-Eg / (2 * k * T))\n",
    "    Diff = 0.214 * mt.exp(-3.65 / (k * T)) + 15 * (C / ni) * mt.exp(-4.08 / (k * T))\n",
    "    return Diff"
   ]
  },
  {
   "cell_type": "code",
   "execution_count": 8,
   "metadata": {},
   "outputs": [],
   "source": [
    "def f(X): # Гауссово распределение, на входе X в мкм, в процессе расчета переводится в см\n",
    "    f = Q / (2.5 * delRp) * mt.exp(-(X * 10 ** -4 - Rp) ** 2 / (2 * delRp ** 2))\n",
    "    return f"
   ]
  },
  {
   "cell_type": "code",
   "execution_count": 13,
   "metadata": {},
   "outputs": [
    {
     "data": {
      "text/plain": [
       "[<matplotlib.lines.Line2D at 0x165b898c1c0>]"
      ]
     },
     "execution_count": 13,
     "metadata": {},
     "output_type": "execute_result"
    },
    {
     "data": {
      "image/png": "[encoded data removed]",
      "text/plain": [
       "<Figure size 432x288 with 1 Axes>"
      ]
     },
     "metadata": {
      "needs_background": "light"
     },
     "output_type": "display_data"
    }
   ],
   "source": [
    "# Исходные данные\n",
    "Q = 5e14\n",
    "E = 180000\n",
    "T = 1273\n",
    "a1 = 0.000668\n",
    "a2 = 0.921\n",
    "a3 = 0.005072\n",
    "a4 = 0.000241\n",
    "a5 = 0.884\n",
    "a6 = 0.000923\n",
    "\n",
    "Rp = (a1 * E ** a2 + a3) / 1e7 # 46.23 нм, переводятся в см, деление на 10e-7\n",
    "delRp = (a4 * E ** a5 + a6) / 1e7 # 10.16 \n",
    "\n",
    "n = 1000\n",
    "m = 50\n",
    "\n",
    "X = np.zeros(n+1)\n",
    "C = np.zeros(n+1)\n",
    "\n",
    "Xmax = 1\n",
    "dx = Xmax / (n - 1)\n",
    "\n",
    "\n",
    "X[1] = 0\n",
    "C[1] = f(X[1])\n",
    "for i in range(2, n-1): # Заполнение массива концентрации через функцию распределения Гаусса\n",
    "    X[i] = X[i-1] + dx\n",
    "    C[i] = f(X[i])\n",
    "\n",
    "plt.plot(X / Xmax, C)"
   ]
  },
  {
   "cell_type": "code",
   "execution_count": null,
   "metadata": {},
   "outputs": [],
   "source": [
    "n = 3000\n",
    "Q = 5e14\n",
    "E = 180000\n",
    "tt = 900\n",
    "T = 1273\n",
    "pp = 1e16\n",
    "ke = 1.9e-61\n",
    "Rp = (0.000668 * E ** 0.921 + 0.005072) / 1e7 # 46.23 нм, переводятся в см, деление на 10e-7\n",
    "delRp = (0.000241 * E ** 0.884 + 0.000923) / 1e7 # 10.16\n",
    "\n",
    "Xmax = 1\n",
    "dx = Xmax / (n - 1)\n",
    "X[1] = 0\n",
    "C[1] = f(X[1])\n",
    "for i in range(2,n):\n",
    "    X[i] = X[i - 1] + dx\n",
    "    C[i] = f(X[i])\n",
    "    Ck[i] = (C[i] / (3 * ke)) ^ 0.25\n",
    "Next i\n",
    "dt = 1\n",
    "b(1) = 0\n",
    "a(1) = -1\n",
    "d(1) = 1\n",
    "r(1) = 0"
   ]
  }
 ],
 "metadata": {
  "kernelspec": {
   "display_name": "Python 3",
   "language": "python",
   "name": "python3"
  },
  "language_info": {
   "codemirror_mode": {
    "name": "ipython",
    "version": 3
   },
   "file_extension": ".py",
   "mimetype": "text/x-python",
   "name": "python",
   "nbconvert_exporter": "python",
   "pygments_lexer": "ipython3",
   "version": "3.8.3"
  }
 },
 "nbformat": 4,
 "nbformat_minor": 4
}
