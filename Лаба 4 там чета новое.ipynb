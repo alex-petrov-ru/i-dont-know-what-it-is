{
 "cells": [
  {
   "cell_type": "code",
   "execution_count": 26,
   "metadata": {},
   "outputs": [],
   "source": [
    "import numpy as np\n",
    "import math as mt\n",
    "import matplotlib.pyplot as plt"
   ]
  },
  {
   "cell_type": "code",
   "execution_count": 27,
   "metadata": {},
   "outputs": [],
   "source": [
    "N = 1000\n",
    "aem = 1.67e-27\n",
    "q = 1.6e-19\n",
    "epsilon_0 = 8.85e-14\n",
    "p = 0.005\n",
    "\n",
    "el = 1.6e-19\n",
    "Nat = 4.42e22\n",
    "q2 = 14.4\n",
    "Ge_m = 72.59\n",
    "Ge_z = 32\n",
    "m2 = 72.59\n",
    "z2 = Ge_z\n",
    "\n",
    "As_m = 74.92\n",
    "As_z = 33\n",
    "m1 = As_m\n",
    "z1 = As_z\n",
    "E = 120000\n",
    "Q = 1e15\n",
    "\n",
    "\n",
    "a0 = 0.528\n",
    "a1 = 1.383\n",
    "b1 = 0.01321\n",
    "c1 = 0.21226\n",
    "d1 = 0.19593"
   ]
  },
  {
   "cell_type": "code",
   "execution_count": 31,
   "metadata": {},
   "outputs": [],
   "source": [
    "# Thomas-Fermi model\n",
    "a = 0.8854 * a0 / (z1 ** 0.66 + z2 ** 0.66) ** 0.5\n",
    "eps = (a * m2 * E) / (z1 * z2 * q2 * (m1 + m2))\n",
    "\n",
    "if eps < 10:\n",
    "    sn_0 = mt.log(1 + a1 * eps) / \\\n",
    "        (2 * (eps + b1 * eps ** c1 + d1 * eps ** 0.5))\n",
    "else:\n",
    "    sn_0 = mt.log(eps) / (2 * eps)\n",
    "\n",
    "Sn = (8.462E-15 * z1 * z2 * m1 * sn_0 * Nat) / ((m1 + m2) *\n",
    "                                          (z1 ** 0.23 + z2 ** 0.23))\n",
    "\n",
    "k1 = z1 ** (1 / 6) * 0.0793 * z1 ** (1 / 2) * (m1 + m2) ** (3 / 2) / ((z1 ** (2 / 3) + z2 ** (2 / 3)) ** (3 / 4) * m1 ** (3 / 2) * m2 ** (1 / 2))\n",
    "\n",
    "Cr = (4 * 3.1416 * a ** 2 * m1 * m2) / (m1 + m2) ** 2\n",
    "Ce = (4 * 3.1416 * a * m2) / (z1 * z2 * q2 * (m1 + m2))\n",
    "\n",
    "Se = k1 * (Cr / 1e16) * (E ** 2) * Nat / (Ce ** 0.5)"
   ]
  },
  {
   "cell_type": "code",
   "execution_count": 32,
   "metadata": {},
   "outputs": [],
   "source": [
    "dE = E / N\n",
    "\n",
    "Rp = np.zeros(N + 1)\n",
    "Csi = np.zeros(N + 1)\n",
    "dRpl = np.zeros(N + 1)\n",
    "\n",
    "for i in range(1, N + 1):\n",
    "    Rp[i] = Rp[i-1] * (1 - m2 * Sn * dE / (2 * m1 * (Se + Sn) * i)) + dE / (Se + Sn)\n",
    "    \n",
    "    # Rp[i] = Rp[i - 1] + (1 - (m2 / m1) * (Sn / (Sn + Se)) * (dE / E)) * (dE / (Sn + Se))\n",
    "    \n",
    "for i in range(1, N + 1):\n",
    "    Csi[i] = Csi[i - 1] + (2 * Rp[i]  * dE / (Se + Sn))\n",
    "    \n",
    "for i in range(1, N + 1):\n",
    "    dRpl[i] = dRpl[i - 1] ** 2 + (Csi[i] - 2 * dRpl[i - 1] ** 2) * m2 * Sn * dE / (m1 * (Sn + Se) * i)\n",
    "    \n",
    "   # dRpl[i] = (dRpl[i - 1] ** 2 + (Csi[i] - 2 * dRpl[i - 1] ** 2) * (m2 / m1) * (Sn / (Sn + Se)) * (dE / E)) ** 0.5\n"
   ]
  },
  {
   "cell_type": "code",
   "execution_count": 33,
   "metadata": {},
   "outputs": [
    {
     "name": "stdout",
     "output_type": "stream",
     "text": [
      "Sn 1852.150 эв/нм или 1.852 кэв/нм\n",
      "Se 927958973.256 эв/нм или 927958.973 кэв/нм\n",
      "Rp 0.000 мкм\n",
      "dRp 0.000 мкм\n"
     ]
    },
    {
     "data": {
      "image/png": "[encoded data removed]",
      "text/plain": [
       "<Figure size 432x288 with 1 Axes>"
      ]
     },
     "metadata": {
      "needs_background": "light"
     },
     "output_type": "display_data"
    }
   ],
   "source": [
    "x1 = np.zeros(N + 1)\n",
    "dRp = (Csi[N] - Rp[N] ** 2 - dRpl[N] ** 2) ** 0.5\n",
    "\n",
    "x2 = np.zeros(N + 1)\n",
    "\n",
    "dx = p / N\n",
    "\n",
    "x1[0] = 0\n",
    "x2[0] = 0\n",
    "\n",
    "for i in range(1, N + 1):\n",
    "    x1[i] = x1[i - 1] + dx\n",
    "    x2[i] = x1[i] / 1e-4  # mkm\n",
    "\n",
    "C = np.zeros(N + 1)\n",
    "\n",
    "for i in range(1, N):\n",
    "    C[i] = Q / ((2 * 3.14) ** 0.5 * dRp) * mt.exp(-(x1[i] - Rp[N]) ** 2 / (2 * dRp ** 2))\n",
    "\n",
    "print(f\"Sn {Sn / 1e7:.3f} эв/нм или {Sn / 1e10:.3f} кэв/нм\")\n",
    "print(f\"Se {Se / 1e7:.3f} эв/нм или {Se / 1e10:.3f} кэв/нм\")\n",
    "print(f\"Rp {Rp[N] * 1e4:.3f} мкм\")\n",
    "print(f\"dRp {dRp * 1e4:.3f} мкм\")\n",
    "\n",
    "plt.plot(x2, C)\n",
    "plt.xlabel('Глубина, мкм')\n",
    "plt.ylabel('Концентрация, см-3')\n",
    "plt.show()"
   ]
  },
  {
   "cell_type": "code",
   "execution_count": 13,
   "metadata": {},
   "outputs": [
    {
     "name": "stdout",
     "output_type": "stream",
     "text": [
      "Sn 1865.661 эв/нм или 1.866 кэв/нм\n",
      "Se 10214976.417 эв/нм или 10214.976 кэв/нм\n",
      "Rp 0.000 мкм\n"
     ]
    }
   ],
   "source": [
    "print(f\"Sn {Sn / 1e7:.3f} эв/нм или {Sn / 1e10:.3f} кэв/нм\")\n",
    "print(f\"Se {Se / 1e7:.3f} эв/нм или {Se / 1e10:.3f} кэв/нм\")\n",
    "print(f\"Rp {Rp[N] * 1e4:.3f} мкм\")"
   ]
  },
  {
   "cell_type": "code",
   "execution_count": null,
   "metadata": {},
   "outputs": [],
   "source": []
  }
 ],
 "metadata": {
  "kernelspec": {
   "display_name": "Python 3",
   "language": "python",
   "name": "python3"
  },
  "language_info": {
   "codemirror_mode": {
    "name": "ipython",
    "version": 3
   },
   "file_extension": ".py",
   "mimetype": "text/x-python",
   "name": "python",
   "nbconvert_exporter": "python",
   "pygments_lexer": "ipython3",
   "version": "3.8.3"
  }
 },
 "nbformat": 4,
 "nbformat_minor": 4
}
