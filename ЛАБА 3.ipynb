{
 "cells": [
  {
   "cell_type": "code",
   "execution_count": 13,
   "metadata": {},
   "outputs": [],
   "source": [
    "import matplotlib.pyplot as plt\n",
    "import math, time, sys\n",
    "import numpy as np"
   ]
  },
  {
   "cell_type": "code",
   "execution_count": 14,
   "metadata": {},
   "outputs": [],
   "source": [
    "# set constants\n",
    "q = 1.6e-19\n",
    "k = 1.38e-23 / q"
   ]
  },
  {
   "cell_type": "code",
   "execution_count": 17,
   "metadata": {},
   "outputs": [],
   "source": [
    "# define the class, counts the essential features of semiconductor\n",
    "class Si:\n",
    "\n",
    "    def __init__(self):\n",
    "        # set constants\n",
    "        self.m_dn = 1.08\n",
    "        self.m_dp = 0.59\n",
    "        self.epsilon = 11.7\n",
    "        self.mu_n_300 = 1350\n",
    "        self.mu_p_300 = 450\n",
    "\n",
    "    def Eg(self, temperature):\n",
    "        return 1.17 - 4.73e-4 / (temperature + 636) * temperature ** 2\n",
    "\n",
    "    def Ei(self, temperature):\n",
    "        return self.Eg(temperature) / 2 - k * temperature / 4\n",
    "\n",
    "    # C_minus, C_plus, C_doubleminus - parameters of the process\n",
    "    def C_minus(self, temperature):\n",
    "        return math.exp((self.Ei(temperature) + 0.57 - self.Eg(temperature)) / k / temperature)\n",
    "\n",
    "    def C_plus(self, temperature):\n",
    "        return math.exp((0.35 - self.Ei(temperature)) / k / temperature)\n",
    "\n",
    "    def C_doubleminus(self, temperature):\n",
    "        return math.exp((2 * self.Ei(temperature) + 1.25 - 3 * self.Eg(temperature)) / k / temperature)\n",
    "\n",
    "    def gamma_l(self, temperature):\n",
    "        return 2620 * math.exp(-1.1 / k / temperature)\n",
    "\n",
    "    def gamma_p(self, temperature):\n",
    "        return 9.63e-16 * math.exp(2.83 / k / temperature)\n",
    "\n",
    "    def Vn(self, temperature, n):\n",
    "        numerator =  1 + self.C_plus(temperature) * (self.ni(temperature) / n) \\\n",
    "                + self.C_minus(temperature) * (n / self.ni(temperature)) \\\n",
    "                + self.C_doubleminus(temperature) * ( n / self.ni(temperature)) ** 2\n",
    "        denominator = 1 + self.C_plus(temperature) + self.C_minus(temperature) + self.C_doubleminus(temperature)\n",
    "        return numerator / denominator\n",
    "\n",
    "    def Nv(self, temperature):\n",
    "        return 4.82e15 * (self.m_dp ** 1.5) * (temperature ** 1.5)\n",
    "\n",
    "    def Nc(self, temperature):\n",
    "        return 4.82e15 * (self.m_dn ** 1.5) * (temperature ** 1.5)\n",
    "\n",
    "    def ni(self, temperature):\n",
    "        return ((self.Nc(temperature) * self.Nv(temperature)) ** 0.5) * math.exp(\n",
    "            -1 * self.Eg(temperature) / (2 * temperature * k))"
   ]
  },
  {
   "cell_type": "code",
   "execution_count": 18,
   "metadata": {},
   "outputs": [
    {
     "data": {
      "image/png": "[encoded data removed]",
      "text/plain": [
       "<Figure size 432x288 with 1 Axes>"
      ]
     },
     "metadata": {
      "needs_background": "light"
     },
     "output_type": "display_data"
    }
   ],
   "source": [
    "def K(A, Ea, temperature):\n",
    "    return A * math.exp(- Ea / k / temperature)\n",
    "\n",
    "\n",
    "def x_t(t, A, B, xi):\n",
    "    tau = (xi ** 2 + A * xi) / B\n",
    "    return (A / 2) * (math.sqrt(1 + (t + tau) / ((A**2)/4*B)) - 1)\n",
    "\n",
    "Si = Si()\n",
    "\n",
    "def oxidation(time, T, concentration, xi):\n",
    "    sc = Si\n",
    "    B = K(12.9, 1.23, T) * (1 + sc.gamma_p(T) * sc.ni(T) ** 0.22)\n",
    "    A = B / (K(1.04e5, 2, T) * (1 + sc.gamma_l(T) * (sc.Vn(T, concentration) - 1)))\n",
    "    # вызов функции расчета толщины оксида с новыми параметрами\n",
    "    x = x_t(time, A, B, xi)\n",
    "    return x\n",
    "\n",
    "def oxide(T, time, concentration1, concentration2, x0, xi):\n",
    "    sc = Si\n",
    "\n",
    "    n = time * 60\n",
    "    t = np.empty(n)\n",
    "    x = np.empty(n)\n",
    "    t[0] = 0\n",
    "    x[0] = 50e-3\n",
    "    xi = 0.1\n",
    "\n",
    "    for i in range(1, n):\n",
    "        t[i] = t[i - 1] + 1\n",
    "        # расчет окисла при первой концентрации - 1e15 До глубины 0.1 / 0.45\n",
    "        if x[i] < x0 * 2.43:\n",
    "            x[i] = oxidation(t[i], T, concentration1, x0)\n",
    "        # расчет окисла с новой концентрацией\n",
    "        else:\n",
    "            x[i] = oxidation(t[i], T, concentration2, xi)\n",
    "\n",
    "    plt.plot(t, x, c = 'red')\n",
    "    plt.ylabel('Толщина окисла x0, мкм')\n",
    "    plt.xlabel('Время, c')\n",
    "    plt.show()\n",
    "\n",
    "oxide(1373, 30, 1e15, 1e17, 50e-3, 0.1)"
   ]
  },
  {
   "cell_type": "code",
   "execution_count": null,
   "metadata": {},
   "outputs": [],
   "source": []
  }
 ],
 "metadata": {
  "kernelspec": {
   "display_name": "Python 3",
   "language": "python",
   "name": "python3"
  },
  "language_info": {
   "codemirror_mode": {
    "name": "ipython",
    "version": 3
   },
   "file_extension": ".py",
   "mimetype": "text/x-python",
   "name": "python",
   "nbconvert_exporter": "python",
   "pygments_lexer": "ipython3",
   "version": "3.8.3"
  }
 },
 "nbformat": 4,
 "nbformat_minor": 4
}
